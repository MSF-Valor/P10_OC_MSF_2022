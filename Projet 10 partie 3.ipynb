{
 "cells": [
  {
   "cell_type": "markdown",
   "id": "59838888",
   "metadata": {},
   "source": [
    "# Projet 10 : Détectez des faux billets avec R ou Python"
   ]
  },
  {
   "cell_type": "markdown",
   "id": "289effbf",
   "metadata": {},
   "source": [
    "# Partie 3"
   ]
  },
  {
   "cell_type": "markdown",
   "id": "e7cf4307",
   "metadata": {},
   "source": [
    "La partie 4 contient la régression logistique, utilisée pour différencier vrais et faux billets. On commencera par réaliser le modèle de régression logistique. Puis on cherchera à comparer le taux de vrais et de faux positifs. Enfin on procédera à la mise en place de l'algorithme."
   ]
  },
  {
   "cell_type": "markdown",
   "id": "e1fea152",
   "metadata": {},
   "source": [
    "# Sommaire\n",
    "* [Importation des librairies](#Importation_des_librairies)\n",
    "* [Importation des données](#Importation_des_données)\n",
    "* [Régression logistique](#régression_logistique)\n",
    "    * [Matrice de confusion](#matrice_de_confusion)\n",
    "    * [Coefficient des features](#coefficient_des_features)\n",
    "    * [TFP vs TVP](#tfp_vs_tvp)\n",
    "* [Algorithme](#Algorithme)"
   ]
  },
  {
   "cell_type": "markdown",
   "id": "db7a5fa5",
   "metadata": {},
   "source": [
    "## Importations des libraires<a class=\"anchor\" id=\"Importation_des_librairies\"></a>"
   ]
  },
  {
   "cell_type": "code",
   "execution_count": 1,
   "id": "8ffcf3b1",
   "metadata": {},
   "outputs": [],
   "source": [
    "# Importation des librairies\n",
    "\n",
    "# Mulitpurpose\n",
    "import numpy as np\n",
    "import seaborn as sb\n",
    "import pandas as pd\n",
    "import matplotlib.pyplot as plt\n",
    "import scipy.stats as st\n",
    "\n",
    "# Régression logistique\n",
    "import statsmodels.formula.api as smf\n",
    "import statsmodels.api as sm\n",
    "import sklearn.linear_model as skl\n",
    "from sklearn.model_selection import train_test_split\n",
    "from sklearn.metrics import confusion_matrix\n",
    "from sklearn.metrics import roc_auc_score, roc_curve, auc"
   ]
  },
  {
   "cell_type": "markdown",
   "id": "2cfd0ac2",
   "metadata": {},
   "source": [
    "## Importation des données<a class=\"anchor\" id=\"Importation_des_données\"></a>"
   ]
  },
  {
   "cell_type": "code",
   "execution_count": 2,
   "id": "4a15253a",
   "metadata": {},
   "outputs": [],
   "source": [
    "# Importation des données\n",
    "billets_data_3 =  pd.read_csv(\"billets_data_3.csv\", sep=\",\")\n",
    "billets_production =  pd.read_csv(\"billets_production.csv\", sep=\",\")"
   ]
  },
  {
   "cell_type": "markdown",
   "id": "65041a1a",
   "metadata": {},
   "source": [
    "## Régression logistique<a class=\"anchor\" id=\"régression_logistique\"></a>"
   ]
  },
  {
   "cell_type": "code",
   "execution_count": 3,
   "id": "b8c31ce5",
   "metadata": {},
   "outputs": [
    {
     "name": "stdout",
     "output_type": "stream",
     "text": [
      "R²: 0.992\n"
     ]
    }
   ],
   "source": [
    "# Regression logistique avec SKlearn\n",
    "# On défini les valeurs caractéristiques et la valeur cible\n",
    "x = billets_data_3[[\"diagonal\",\"height_left\",\"height_right\",\"margin_low\",\"margin_up\",\"length\"]]\n",
    "y = billets_data_3[\"is_genuine\"]\n",
    "\n",
    "# Fractionnage en données d'entraînement/données test 75/25\n",
    "x_train, x_test, y_train, y_test = train_test_split(x, y, random_state = 0)\n",
    "\n",
    "# Création du modèle\n",
    "modele_regLog = skl.LogisticRegression(random_state = 0, solver = 'liblinear', multi_class = 'auto')\n",
    "\n",
    "# Entraînement\n",
    "modele_regLog.fit(x_train,y_train)\n",
    "\n",
    "# Calcule de la précision du modèle\n",
    "precision = modele_regLog.score(x_test,y_test)\n",
    "print(\"R²:\",precision)"
   ]
  },
  {
   "cell_type": "markdown",
   "id": "b20ffb4e",
   "metadata": {},
   "source": [
    "### Matrice de Confusion<a class=\"anchor\" id=\"matrice_de_confusion\"></a>"
   ]
  },
  {
   "cell_type": "code",
   "execution_count": 4,
   "id": "cd74be6f",
   "metadata": {},
   "outputs": [
    {
     "data": {
      "text/html": [
       "<div>\n",
       "<style scoped>\n",
       "    .dataframe tbody tr th:only-of-type {\n",
       "        vertical-align: middle;\n",
       "    }\n",
       "\n",
       "    .dataframe tbody tr th {\n",
       "        vertical-align: top;\n",
       "    }\n",
       "\n",
       "    .dataframe thead th {\n",
       "        text-align: right;\n",
       "    }\n",
       "</style>\n",
       "<table border=\"1\" class=\"dataframe\">\n",
       "  <thead>\n",
       "    <tr style=\"text-align: right;\">\n",
       "      <th></th>\n",
       "      <th>Faux billets</th>\n",
       "      <th>Vrais billets</th>\n",
       "    </tr>\n",
       "  </thead>\n",
       "  <tbody>\n",
       "    <tr>\n",
       "      <th>Prédit Faux</th>\n",
       "      <td>98.43</td>\n",
       "      <td>0.4</td>\n",
       "    </tr>\n",
       "    <tr>\n",
       "      <th>Prédit Vrai</th>\n",
       "      <td>1.57</td>\n",
       "      <td>99.6</td>\n",
       "    </tr>\n",
       "  </tbody>\n",
       "</table>\n",
       "</div>"
      ],
      "text/plain": [
       "             Faux billets  Vrais billets\n",
       "Prédit Faux         98.43            0.4\n",
       "Prédit Vrai          1.57           99.6"
      ]
     },
     "execution_count": 4,
     "metadata": {},
     "output_type": "execute_result"
    }
   ],
   "source": [
    "conf = confusion_matrix(y_test, modele_regLog.predict(x_test),normalize=\"pred\")\n",
    "mcf = pd.DataFrame(data=conf, columns=[\"Faux billets\", \"Vrais billets\"])\n",
    "mcf.index = [\"Prédit Faux\", \"Prédit Vrai\"]\n",
    "round(mcf*100,2)"
   ]
  },
  {
   "cell_type": "markdown",
   "id": "a79d3ec4",
   "metadata": {},
   "source": [
    "### Coefficient des features<a class=\"anchor\" id=\"coefficient_des_features\"></a>"
   ]
  },
  {
   "cell_type": "code",
   "execution_count": 5,
   "id": "b1d09cce",
   "metadata": {},
   "outputs": [
    {
     "data": {
      "text/html": [
       "<div>\n",
       "<style scoped>\n",
       "    .dataframe tbody tr th:only-of-type {\n",
       "        vertical-align: middle;\n",
       "    }\n",
       "\n",
       "    .dataframe tbody tr th {\n",
       "        vertical-align: top;\n",
       "    }\n",
       "\n",
       "    .dataframe thead th {\n",
       "        text-align: right;\n",
       "    }\n",
       "</style>\n",
       "<table border=\"1\" class=\"dataframe\">\n",
       "  <thead>\n",
       "    <tr style=\"text-align: right;\">\n",
       "      <th></th>\n",
       "      <th>Coefs</th>\n",
       "    </tr>\n",
       "  </thead>\n",
       "  <tbody>\n",
       "    <tr>\n",
       "      <th>diagonal</th>\n",
       "      <td>1.020784</td>\n",
       "    </tr>\n",
       "    <tr>\n",
       "      <th>height_left</th>\n",
       "      <td>5.005972</td>\n",
       "    </tr>\n",
       "    <tr>\n",
       "      <th>height_right</th>\n",
       "      <td>8.016661</td>\n",
       "    </tr>\n",
       "    <tr>\n",
       "      <th>margin_low</th>\n",
       "      <td>25.488422</td>\n",
       "    </tr>\n",
       "    <tr>\n",
       "      <th>margin_up</th>\n",
       "      <td>26.124542</td>\n",
       "    </tr>\n",
       "    <tr>\n",
       "      <th>length</th>\n",
       "      <td>39.343970</td>\n",
       "    </tr>\n",
       "  </tbody>\n",
       "</table>\n",
       "</div>"
      ],
      "text/plain": [
       "                  Coefs\n",
       "diagonal       1.020784\n",
       "height_left    5.005972\n",
       "height_right   8.016661\n",
       "margin_low    25.488422\n",
       "margin_up     26.124542\n",
       "length        39.343970"
      ]
     },
     "execution_count": 5,
     "metadata": {},
     "output_type": "execute_result"
    }
   ],
   "source": [
    "# Affiche les coefficients des features, plus le coefficient est élevé plus la feature est impactante\n",
    "coefs=1/np.exp(modele_regLog.coef_[0])\n",
    "coefs[5]=1/coefs[5]\n",
    "pd.DataFrame(data=coefs,\n",
    "             index=x_train.columns,\n",
    "             columns=[\"Coefs\"])"
   ]
  },
  {
   "cell_type": "markdown",
   "id": "74d7d786",
   "metadata": {},
   "source": [
    "### TFP vs TVP<a class=\"anchor\" id=\"tfp_vs_tvp\"></a>"
   ]
  },
  {
   "cell_type": "code",
   "execution_count": 6,
   "id": "0393326f",
   "metadata": {},
   "outputs": [
    {
     "data": {
      "text/html": [
       "<div>\n",
       "<style scoped>\n",
       "    .dataframe tbody tr th:only-of-type {\n",
       "        vertical-align: middle;\n",
       "    }\n",
       "\n",
       "    .dataframe tbody tr th {\n",
       "        vertical-align: top;\n",
       "    }\n",
       "\n",
       "    .dataframe thead th {\n",
       "        text-align: right;\n",
       "    }\n",
       "</style>\n",
       "<table border=\"1\" class=\"dataframe\">\n",
       "  <thead>\n",
       "    <tr style=\"text-align: right;\">\n",
       "      <th></th>\n",
       "      <th>TFP</th>\n",
       "      <th>TVP</th>\n",
       "      <th>threshold</th>\n",
       "    </tr>\n",
       "  </thead>\n",
       "  <tbody>\n",
       "    <tr>\n",
       "      <th>0</th>\n",
       "      <td>0.0</td>\n",
       "      <td>0.000000</td>\n",
       "      <td>1.999999</td>\n",
       "    </tr>\n",
       "    <tr>\n",
       "      <th>1</th>\n",
       "      <td>0.0</td>\n",
       "      <td>0.007937</td>\n",
       "      <td>0.999999</td>\n",
       "    </tr>\n",
       "  </tbody>\n",
       "</table>\n",
       "</div>"
      ],
      "text/plain": [
       "   TFP       TVP  threshold\n",
       "0  0.0  0.000000   1.999999\n",
       "1  0.0  0.007937   0.999999"
      ]
     },
     "execution_count": 6,
     "metadata": {},
     "output_type": "execute_result"
    }
   ],
   "source": [
    "# Calcule le taux de faux positifs et de vrais positifs en fonction du seuil\n",
    "probas = modele_regLog.predict_proba(x_test)\n",
    "fpr0, tpr0, thresholds0 = roc_curve(y_test, probas[:, 0], pos_label=modele_regLog.classes_[0], drop_intermediate=False)\n",
    "dftp = pd.DataFrame(dict(TFP=fpr0, TVP=tpr0, threshold=thresholds0)).copy()\n",
    "dftp.head(n=2)"
   ]
  },
  {
   "cell_type": "code",
   "execution_count": 7,
   "id": "60d6a0e5",
   "metadata": {},
   "outputs": [
    {
     "data": {
      "image/png": "[encoded data removed]",
      "text/plain": [
       "<Figure size 288x288 with 1 Axes>"
      ]
     },
     "metadata": {
      "needs_background": "light"
     },
     "output_type": "display_data"
    }
   ],
   "source": [
    "# Affiche le taux de faux positifs et de vrais positifs en fonction du seuil\n",
    "ax = dftp.plot(x=\"threshold\", y=['TFP', 'TVP'], figsize=(4, 4))\n",
    "ax.set_title(\"Evolution de TFP, TVP\\nen fonction du seuil au delà duquel\\n\" +\n",
    "             \"la réponse du classifieur est validée\");"
   ]
  },
  {
   "cell_type": "code",
   "execution_count": 8,
   "id": "2f88113d",
   "metadata": {},
   "outputs": [
    {
     "data": {
      "image/png": "[encoded data removed]",
      "text/plain": [
       "<Figure size 288x288 with 1 Axes>"
      ]
     },
     "metadata": {
      "needs_background": "light"
     },
     "output_type": "display_data"
    }
   ],
   "source": [
    "# Courbe ROC qui nous indique le rapport entre le taux de vrais et de faux positifs\n",
    "fig, ax = plt.subplots(1, 1, figsize=(4,4))\n",
    "ax.plot([0, 1], [0, 1], 'k--', label=\"Modèle aléatoire\")\n",
    "plt.plot([0, 0, 0, 1], [0, 0.1, 1, 1], c=\"tab:red\", label=\"Modèle optimal\")\n",
    "aucf = roc_auc_score(y_test == modele_regLog.classes_[0], probas[:, 0])\n",
    "ax.plot(fpr0, tpr0, label=\"Courbe ROC\", c=\"tab:blue\")\n",
    "ax.set_title('Courbe ROC - distinction vrais et faux billets')\n",
    "ax.set_xlabel(\"TFP\")\n",
    "ax.legend()\n",
    "ax.set_ylabel(\"TVP\");"
   ]
  },
  {
   "cell_type": "markdown",
   "id": "16e548fc",
   "metadata": {},
   "source": [
    "## Algorithme<a class=\"anchor\" id=\"Algorithme\"></a>"
   ]
  },
  {
   "cell_type": "code",
   "execution_count": 9,
   "id": "42192444",
   "metadata": {},
   "outputs": [],
   "source": [
    "# Algorithme de détection des faux billets qui prend en entrée un DataFrame contenant les colonnes :\n",
    "# 'diagonal', 'height_left', 'height_right', 'margin_low', 'margin_up','length'\n",
    "# L'algorithme retourne un dataframe contenant les résultats\n",
    "def detection_billet(data):\n",
    "    # Créé un nouveau DataFrame et récupère les données nécessaires du DataFrame entré pour éliminer les colonnes superflues\n",
    "    tab = pd.DataFrame()\n",
    "    tab[\"diagonal\"] = data[\"diagonal\"]\n",
    "    tab[\"height_left\"] = data[\"height_left\"]\n",
    "    tab[\"height_right\"] = data[\"height_right\"]\n",
    "    tab[\"margin_low\"] = data[\"margin_low\"]\n",
    "    tab[\"margin_up\"] = data[\"margin_up\"]\n",
    "    tab[\"length\"] = data[\"length\"]\n",
    "    tab2 = data\n",
    "    # Lance la prédiction\n",
    "    tab2[\"predict\"]=modele_regLog.predict(tab)\n",
    "    tab2[\"proba false\"]=modele_regLog.predict_proba(tab)[:,0].round(4)*100\n",
    "    tab2[\"proba true\"]=modele_regLog.predict_proba(tab)[:,1].round(4)*100\n",
    "    return(tab2)"
   ]
  },
  {
   "cell_type": "code",
   "execution_count": 10,
   "id": "291424a7",
   "metadata": {},
   "outputs": [
    {
     "data": {
      "text/html": [
       "<div>\n",
       "<style scoped>\n",
       "    .dataframe tbody tr th:only-of-type {\n",
       "        vertical-align: middle;\n",
       "    }\n",
       "\n",
       "    .dataframe tbody tr th {\n",
       "        vertical-align: top;\n",
       "    }\n",
       "\n",
       "    .dataframe thead th {\n",
       "        text-align: right;\n",
       "    }\n",
       "</style>\n",
       "<table border=\"1\" class=\"dataframe\">\n",
       "  <thead>\n",
       "    <tr style=\"text-align: right;\">\n",
       "      <th></th>\n",
       "      <th>diagonal</th>\n",
       "      <th>height_left</th>\n",
       "      <th>height_right</th>\n",
       "      <th>margin_low</th>\n",
       "      <th>margin_up</th>\n",
       "      <th>length</th>\n",
       "      <th>id</th>\n",
       "      <th>predict</th>\n",
       "      <th>proba false</th>\n",
       "      <th>proba true</th>\n",
       "    </tr>\n",
       "  </thead>\n",
       "  <tbody>\n",
       "    <tr>\n",
       "      <th>0</th>\n",
       "      <td>171.76</td>\n",
       "      <td>104.01</td>\n",
       "      <td>103.54</td>\n",
       "      <td>5.21</td>\n",
       "      <td>3.30</td>\n",
       "      <td>111.42</td>\n",
       "      <td>A_1</td>\n",
       "      <td>False</td>\n",
       "      <td>99.36</td>\n",
       "      <td>0.64</td>\n",
       "    </tr>\n",
       "    <tr>\n",
       "      <th>1</th>\n",
       "      <td>171.87</td>\n",
       "      <td>104.17</td>\n",
       "      <td>104.13</td>\n",
       "      <td>6.00</td>\n",
       "      <td>3.31</td>\n",
       "      <td>112.09</td>\n",
       "      <td>A_2</td>\n",
       "      <td>False</td>\n",
       "      <td>99.87</td>\n",
       "      <td>0.13</td>\n",
       "    </tr>\n",
       "    <tr>\n",
       "      <th>2</th>\n",
       "      <td>172.00</td>\n",
       "      <td>104.58</td>\n",
       "      <td>104.29</td>\n",
       "      <td>4.99</td>\n",
       "      <td>3.39</td>\n",
       "      <td>111.57</td>\n",
       "      <td>A_3</td>\n",
       "      <td>False</td>\n",
       "      <td>99.86</td>\n",
       "      <td>0.14</td>\n",
       "    </tr>\n",
       "    <tr>\n",
       "      <th>3</th>\n",
       "      <td>172.49</td>\n",
       "      <td>104.55</td>\n",
       "      <td>104.34</td>\n",
       "      <td>4.44</td>\n",
       "      <td>3.03</td>\n",
       "      <td>113.20</td>\n",
       "      <td>A_4</td>\n",
       "      <td>True</td>\n",
       "      <td>9.03</td>\n",
       "      <td>90.97</td>\n",
       "    </tr>\n",
       "    <tr>\n",
       "      <th>4</th>\n",
       "      <td>171.65</td>\n",
       "      <td>103.63</td>\n",
       "      <td>103.56</td>\n",
       "      <td>3.77</td>\n",
       "      <td>3.16</td>\n",
       "      <td>113.33</td>\n",
       "      <td>A_5</td>\n",
       "      <td>True</td>\n",
       "      <td>0.05</td>\n",
       "      <td>99.95</td>\n",
       "    </tr>\n",
       "  </tbody>\n",
       "</table>\n",
       "</div>"
      ],
      "text/plain": [
       "   diagonal  height_left  height_right  margin_low  margin_up  length   id  \\\n",
       "0    171.76       104.01        103.54        5.21       3.30  111.42  A_1   \n",
       "1    171.87       104.17        104.13        6.00       3.31  112.09  A_2   \n",
       "2    172.00       104.58        104.29        4.99       3.39  111.57  A_3   \n",
       "3    172.49       104.55        104.34        4.44       3.03  113.20  A_4   \n",
       "4    171.65       103.63        103.56        3.77       3.16  113.33  A_5   \n",
       "\n",
       "   predict  proba false  proba true  \n",
       "0    False        99.36        0.64  \n",
       "1    False        99.87        0.13  \n",
       "2    False        99.86        0.14  \n",
       "3     True         9.03       90.97  \n",
       "4     True         0.05       99.95  "
      ]
     },
     "execution_count": 10,
     "metadata": {},
     "output_type": "execute_result"
    }
   ],
   "source": [
    "detection_billet(billets_production)"
   ]
  },
  {
   "cell_type": "markdown",
   "id": "6cdf5227",
   "metadata": {},
   "source": [
    "L'algorithme de détection des billets a été mis en place, il requiert en entrée un dataframe contenant les colonnes diagonal, height_left, height_right, margin_low, margin_up et length, précisemment orthographiées comme ceci. Il retourne le DataFrame entré avec une colonne supplémentaire, cluster, qui indique si les billets sont vrais ou faux."
   ]
  },
  {
   "cell_type": "code",
   "execution_count": null,
   "id": "c2f162b7",
   "metadata": {},
   "outputs": [],
   "source": []
  }
 ],
 "metadata": {
  "kernelspec": {
   "display_name": "Python 3",
   "language": "python",
   "name": "python3"
  },
  "language_info": {
   "codemirror_mode": {
    "name": "ipython",
    "version": 3
   },
   "file_extension": ".py",
   "mimetype": "text/x-python",
   "name": "python",
   "nbconvert_exporter": "python",
   "pygments_lexer": "ipython3",
   "version": "3.8.8"
  }
 },
 "nbformat": 4,
 "nbformat_minor": 5
}
